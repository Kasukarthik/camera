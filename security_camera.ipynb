{
 "cells": [
  {
   "cell_type": "code",
   "execution_count": 1,
   "id": "ffb4fa35",
   "metadata": {},
   "outputs": [],
   "source": [
    "import cv2"
   ]
  },
  {
   "cell_type": "code",
   "execution_count": 2,
   "id": "b947f9e5",
   "metadata": {},
   "outputs": [],
   "source": [
    "cam=cv2.VideoCapture(0)"
   ]
  },
  {
   "cell_type": "code",
   "execution_count": null,
   "id": "48edd588",
   "metadata": {},
   "outputs": [],
   "source": [
    "while cam.isOpened():\n",
    "    ret,frame1=cam.read()\n",
    "    ret,frame2=cam.read()\n",
    "    diff=cv2.absdiff(frame1,frame2)\n",
    "    gray=cv2.cvtColor(diff,cv2.COLOR_BGR2GRAY)\n",
    "    blur=cv2.GaussianBlur(gray,(5,5),0)\n",
    "    _,thresh=cv2.threshold(blur,20,255,cv2.THRESH_BINARY)# to remove noices,unwanted ..etc\n",
    "    dilated=cv2.dilate(thresh,None,iterations=3)# to get more accurate image\n",
    "    contours,_=cv2.findContours(dilated,cv2.RETR_TREE,cv2.CHAIN_APPROX_SIMPLE)# to identify moving object\n",
    "    #cv2.drawContours(frame1,contours,-1,(0,0,255),2)\n",
    "    for c in contours:\n",
    "        if cv2.contourArea(c)<5000:\n",
    "            continue\n",
    "        x,y,w,h=cv2.boundingRect(c)\n",
    "        cv2.rectangle(frame1,(x,y),(x+h,y+w),(0,0,255),2)\n",
    "        #winsound.Beep(500,200)\n",
    "    \n",
    "    if cv2.waitKey(10)==ord('q'):\n",
    "         break\n",
    "            \n",
    "    cv2.imshow('img',frame1)\n",
    "    \n",
    "cam.release()\n",
    "cv2.destoryAllWindows()\n"
   ]
  },
  {
   "cell_type": "code",
   "execution_count": null,
   "id": "c56db24e",
   "metadata": {},
   "outputs": [],
   "source": []
  }
 ],
 "metadata": {
  "kernelspec": {
   "display_name": "Python 3 (ipykernel)",
   "language": "python",
   "name": "python3"
  },
  "language_info": {
   "codemirror_mode": {
    "name": "ipython",
    "version": 3
   },
   "file_extension": ".py",
   "mimetype": "text/x-python",
   "name": "python",
   "nbconvert_exporter": "python",
   "pygments_lexer": "ipython3",
   "version": "3.9.12"
  }
 },
 "nbformat": 4,
 "nbformat_minor": 5
}
